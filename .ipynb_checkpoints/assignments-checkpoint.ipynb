{
 "cells": [
  {
   "cell_type": "code",
   "execution_count": 1,
   "id": "829a65d3-1baf-46b1-95b7-1084054bbb11",
   "metadata": {},
   "outputs": [],
   "source": [
    "#OpenAPI 키 세팅\n",
    "import os\n",
    "import openai\n",
    "\n",
    "# 환경 변수에서 OpenAI API 키 가져오기\n",
    "api_key = os.environ.get(\"OPENAI_API_KEY\")\n",
    "\n",
    "# OpenAI API 키 설정\n",
    "openai.api_key = api_key"
   ]
  },
  {
   "cell_type": "code",
   "execution_count": 2,
   "id": "42856ca2-4e1f-48fc-a06e-a8359d94cbb0",
   "metadata": {},
   "outputs": [],
   "source": [
    "#모델 로드\n",
    "from langchain_openai import ChatOpenAI\n",
    "from langchain_core.messages import HumanMessage\n",
    "\n",
    "#모델 초기화\n",
    "model = ChatOpenAI(model=\"gpt-4o-mini\")"
   ]
  },
  {
   "cell_type": "code",
   "execution_count": 3,
   "id": "4bc91a18-3d91-40c5-b668-305188c8833e",
   "metadata": {},
   "outputs": [],
   "source": [
    "#학습시킬 데이터 로드하기\n",
    "from langchain.document_loaders import PyPDFLoader\n",
    "\n",
    "#PDF 파일 로드. 파일의 경로 입력\n",
    "loader = PyPDFLoader(\"/Users/hyungmin/Desktop/study/sparta_personal/인공지능산업최신동향_2024년11월호.pdf\")\n",
    "\n",
    "#페이지 별 문서 로드\n",
    "docs = loader.load()"
   ]
  },
  {
   "cell_type": "code",
   "execution_count": 4,
   "id": "aaa1de0f-c660-471a-9e0f-977b3f9925ef",
   "metadata": {},
   "outputs": [],
   "source": [
    "# 초기 시스템 메시지 설정\n",
    "system_message = [\n",
    "    {\"role\": \"system\", \"content\": '너는 인공지능 산업 최신 동향을 알려주는 취업 컨설턴트야, 인공지능 산업에 관심이 많은 사람들을 위한 유의미한 조언을 해줘. 단, 반드시 정중한 말투로 응답하고, 마지막에는 \"더 궁금하신 점이 있다면 언제든지 물어봐주세요.\"라고 말해'},\n",
    "]"
   ]
  },
  {
   "cell_type": "code",
   "execution_count": 5,
   "id": "8bfbc5ba-3da9-4ca1-9eda-49814c0758d0",
   "metadata": {},
   "outputs": [],
   "source": [
    "#RecursiveCharacterTextSplitter를 사용하여 청크로 나누기\n",
    "from langchain.text_splitter import RecursiveCharacterTextSplitter\n",
    "\n",
    "recursive_text_splitter = RecursiveCharacterTextSplitter(\n",
    "    chunk_size=100,\n",
    "    chunk_overlap=10,\n",
    "    length_function=len,\n",
    "    is_separator_regex=False,\n",
    ")\n",
    "\n",
    "splits = recursive_text_splitter.split_documents(docs)"
   ]
  },
  {
   "cell_type": "code",
   "execution_count": 6,
   "id": "5016787f-7d31-4863-83b4-9742479abc38",
   "metadata": {},
   "outputs": [],
   "source": [
    "from langchain_openai import OpenAIEmbeddings\n",
    "\n",
    "# OpenAI 임베딩 모델 초기화\n",
    "embeddings = OpenAIEmbeddings(model=\"text-embedding-ada-002\")\n"
   ]
  },
  {
   "cell_type": "code",
   "execution_count": 7,
   "id": "3631edee-42e2-4331-9ede-75112988c99b",
   "metadata": {},
   "outputs": [],
   "source": [
    "#벡터 스토어 생성\n",
    "import faiss\n",
    "from langchain_community.vectorstores import FAISS\n",
    "\n",
    "\n",
    "vectorstore = FAISS.from_documents(documents=splits, embedding=embeddings)"
   ]
  },
  {
   "cell_type": "code",
   "execution_count": 8,
   "id": "0698b3bc-d654-4262-911e-9c392a5b9bc8",
   "metadata": {},
   "outputs": [],
   "source": [
    "#Faiss를 Retriever로 변환\n",
    "retriever = vectorstore.as_retriever(search_type=\"similarity\", search_kwargs={\"k\": 1})"
   ]
  },
  {
   "cell_type": "code",
   "execution_count": 9,
   "id": "90b7dac5-e9f3-4f4a-b6f3-5b2257cff912",
   "metadata": {},
   "outputs": [],
   "source": [
    "from langchain_core.prompts import ChatPromptTemplate\n",
    "from langchain_core.runnables import RunnablePassthrough\n",
    "\n",
    "# 프롬프트 템플릿 정의\n",
    "contextual_prompt = ChatPromptTemplate.from_messages([\n",
    "    (\"system\", \"Answer the question using only the following context.\"),\n",
    "    (\"user\", \"Context: {context}\\\\n\\\\nQuestion: {question}\")\n",
    "])"
   ]
  },
  {
   "cell_type": "code",
   "execution_count": 10,
   "id": "8546df96-8c8d-4f40-83e3-3777d9f556b5",
   "metadata": {},
   "outputs": [],
   "source": [
    "#RAG 체인 구성\n",
    "from langchain_core.prompts import ChatPromptTemplate\n",
    "from langchain_core.runnables import RunnablePassthrough\n",
    "\n",
    "# 프롬프트 템플릿 정의\n",
    "contextual_prompt = ChatPromptTemplate.from_messages([\n",
    "    (\"system\", \"Answer the question using only the following context.\"),\n",
    "    (\"user\", \"Context: {context}\\\\n\\\\nQuestion: {question}\")\n",
    "])\n",
    "\n",
    "class DebugPassThrough(RunnablePassthrough):\n",
    "    def invoke(self, *args, **kwargs):\n",
    "        output = super().invoke(*args, **kwargs)\n",
    "        print(\"Debug Output:\", output)\n",
    "        return output\n",
    "# 문서 리스트를 텍스트로 변환하는 단계 추가\n",
    "class ContextToText(RunnablePassthrough):\n",
    "    def invoke(self, inputs, config=None, **kwargs):  # config 인수 추가\n",
    "        # context의 각 문서를 문자열로 결합\n",
    "        context_text = \"\\n\".join([doc.page_content for doc in inputs[\"context\"]])\n",
    "        return {\"context\": context_text, \"question\": inputs[\"question\"]}\n",
    "\n",
    "# RAG 체인에서 각 단계마다 DebugPassThrough 추가\n",
    "rag_chain_debug = {\n",
    "    \"context\": retriever,                    # 컨텍스트를 가져오는 retriever\n",
    "    \"question\": DebugPassThrough()        # 사용자 질문이 그대로 전달되는지 확인하는 passthrough\n",
    "}  | DebugPassThrough() | ContextToText()|   contextual_prompt | model\n"
   ]
  },
  {
   "cell_type": "code",
   "execution_count": null,
   "id": "a9ce657b-f591-4d8e-a168-6471316bea6f",
   "metadata": {},
   "outputs": [
    {
     "name": "stdout",
     "output_type": "stream",
     "text": [
      "========================\n"
     ]
    },
    {
     "name": "stdin",
     "output_type": "stream",
     "text": [
      "질문을 입력하세요:  요새 인공지능 취업 전망 알려줘\n"
     ]
    },
    {
     "name": "stdout",
     "output_type": "stream",
     "text": [
      "Debug Output: 요새 인공지능 취업 전망 알려줘\n",
      "Debug Output: {'context': [Document(metadata={'source': '/Users/hyungmin/Desktop/study/sparta_personal/인공지능산업최신동향_2024년11월호.pdf', 'page': 1}, page_content='중 이직 고려················································18   ▹ 가트너 예측, AI로 인해 엔지니어링 인력의 80%가 역량 향상')], 'question': '요새 인공지능 취업 전망 알려줘'}\n",
      "Final Response:\n",
      "최근 가트너의 예측에 따르면 AI의 발전으로 인해 엔지니어링 인력의 80%가 역량 향상을 경험할 것이라고 합니다. 이는 인공지능 기술이 다양한 산업에서 필요로 하는 기술적 요구를 증가시킬 것임을 시사합니다. 따라서 인공지능 관련 분야에서의 취업 전망은 긍정적이며, 특히 AI 기술을 활용할 수 있는 인재에 대한 수요가 늘어날 것으로 보입니다.\n",
      "========================\n"
     ]
    }
   ],
   "source": [
    "while True: \n",
    "\tprint(\"========================\")\n",
    "\tquery = input(\"질문을 입력하세요: \")\n",
    "\tresponse = rag_chain_debug.invoke(query)\n",
    "\tprint(\"Final Response:\")\n",
    "\tprint(response.content)"
   ]
  },
  {
   "cell_type": "code",
   "execution_count": null,
   "id": "2f9d787e-ae35-4413-b002-1ba1a7721301",
   "metadata": {},
   "outputs": [],
   "source": []
  }
 ],
 "metadata": {
  "kernelspec": {
   "display_name": "Python (sparta)",
   "language": "python",
   "name": "sparta"
  },
  "language_info": {
   "codemirror_mode": {
    "name": "ipython",
    "version": 3
   },
   "file_extension": ".py",
   "mimetype": "text/x-python",
   "name": "python",
   "nbconvert_exporter": "python",
   "pygments_lexer": "ipython3",
   "version": "3.12.7"
  }
 },
 "nbformat": 4,
 "nbformat_minor": 5
}
