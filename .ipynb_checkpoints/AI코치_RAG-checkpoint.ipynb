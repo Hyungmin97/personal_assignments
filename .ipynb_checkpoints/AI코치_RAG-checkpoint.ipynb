{
 "cells": [
  {
   "cell_type": "code",
   "execution_count": 1,
   "id": "829a65d3-1baf-46b1-95b7-1084054bbb11",
   "metadata": {},
   "outputs": [],
   "source": [
    "#OpenAPI 키 세팅\n",
    "import os\n",
    "import openai\n",
    "\n",
    "# 환경 변수에서 OpenAI API 키 가져오기\n",
    "api_key = os.environ.get(\"OPENAI_API_KEY\")\n",
    "\n",
    "# OpenAI API 키 설정\n",
    "openai.api_key = api_key"
   ]
  },
  {
   "cell_type": "code",
   "execution_count": 2,
   "id": "42856ca2-4e1f-48fc-a06e-a8359d94cbb0",
   "metadata": {},
   "outputs": [],
   "source": [
    "#모델 로드\n",
    "from langchain_openai import ChatOpenAI\n",
    "from langchain_core.messages import HumanMessage\n",
    "\n",
    "#모델 초기화\n",
    "model = ChatOpenAI(model=\"gpt-4o-mini\")"
   ]
  },
  {
   "cell_type": "code",
   "execution_count": 4,
   "id": "4bc91a18-3d91-40c5-b668-305188c8833e",
   "metadata": {},
   "outputs": [],
   "source": [
    "#학습시킬 데이터 로드하기\n",
    "from langchain.document_loaders import PyPDFLoader\n",
    "\n",
    "#PDF 파일 로드. 파일의 경로 입력\n",
    "loader = PyPDFLoader(\"/Users/hyungmin/Desktop/study/sparta_personal/UOR.pdf\")\n",
    "\n",
    "#페이지 별 문서 로드\n",
    "docs = loader.load()"
   ]
  },
  {
   "cell_type": "code",
   "execution_count": 5,
   "id": "8bfbc5ba-3da9-4ca1-9eda-49814c0758d0",
   "metadata": {},
   "outputs": [],
   "source": [
    "#RecursiveCharacterTextSplitter를 사용하여 청크로 나누기\n",
    "from langchain.text_splitter import RecursiveCharacterTextSplitter\n",
    "\n",
    "recursive_text_splitter = RecursiveCharacterTextSplitter(\n",
    "    chunk_size=100,\n",
    "    chunk_overlap=10,\n",
    "    length_function=len,\n",
    "    is_separator_regex=False,\n",
    ")\n",
    "\n",
    "splits = recursive_text_splitter.split_documents(docs)"
   ]
  },
  {
   "cell_type": "code",
   "execution_count": 6,
   "id": "5016787f-7d31-4863-83b4-9742479abc38",
   "metadata": {},
   "outputs": [],
   "source": [
    "from langchain_openai import OpenAIEmbeddings\n",
    "\n",
    "# OpenAI 임베딩 모델 초기화\n",
    "embeddings = OpenAIEmbeddings(model=\"text-embedding-ada-002\")\n"
   ]
  },
  {
   "cell_type": "code",
   "execution_count": 7,
   "id": "3631edee-42e2-4331-9ede-75112988c99b",
   "metadata": {},
   "outputs": [],
   "source": [
    "#벡터 스토어 생성\n",
    "import faiss\n",
    "from langchain_community.vectorstores import FAISS\n",
    "\n",
    "\n",
    "vectorstore = FAISS.from_documents(documents=splits, embedding=embeddings)"
   ]
  },
  {
   "cell_type": "code",
   "execution_count": 8,
   "id": "0698b3bc-d654-4262-911e-9c392a5b9bc8",
   "metadata": {},
   "outputs": [],
   "source": [
    "#Faiss를 Retriever로 변환\n",
    "retriever = vectorstore.as_retriever(search_type=\"similarity\", search_kwargs={\"k\": 1})"
   ]
  },
  {
   "cell_type": "code",
   "execution_count": 9,
   "id": "90b7dac5-e9f3-4f4a-b6f3-5b2257cff912",
   "metadata": {},
   "outputs": [],
   "source": [
    "from langchain_core.prompts import ChatPromptTemplate\n",
    "from langchain_core.runnables import RunnablePassthrough\n",
    "\n",
    "# 프롬프트 템플릿 정의\n",
    "contextual_prompt = ChatPromptTemplate.from_messages([\n",
    "    (\"system\", \"Answer the question using only the following context.\"),\n",
    "    (\"user\", \"Context: {context}\\\\n\\\\nQuestion: {question}\")\n",
    "])"
   ]
  },
  {
   "cell_type": "code",
   "execution_count": 10,
   "id": "8546df96-8c8d-4f40-83e3-3777d9f556b5",
   "metadata": {},
   "outputs": [],
   "source": [
    "#RAG 체인 구성\n",
    "from langchain_core.prompts import ChatPromptTemplate\n",
    "from langchain_core.runnables import RunnablePassthrough\n",
    "\n",
    "# 프롬프트 템플릿 정의\n",
    "contextual_prompt = ChatPromptTemplate.from_messages([\n",
    "    (\"system\", \"Answer the question using only the following context.\"),\n",
    "    (\"user\", \"Context: {context}\\\\n\\\\nQuestion: {question}\")\n",
    "])\n",
    "\n",
    "class DebugPassThrough(RunnablePassthrough):\n",
    "    def invoke(self, *args, **kwargs):\n",
    "        output = super().invoke(*args, **kwargs)\n",
    "        print(\"Debug Output:\", output)\n",
    "        return output\n",
    "# 문서 리스트를 텍스트로 변환하는 단계 추가\n",
    "class ContextToText(RunnablePassthrough):\n",
    "    def invoke(self, inputs, config=None, **kwargs):  # config 인수 추가\n",
    "        # context의 각 문서를 문자열로 결합\n",
    "        context_text = \"\\n\".join([doc.page_content for doc in inputs[\"context\"]])\n",
    "        return {\"context\": context_text, \"question\": inputs[\"question\"]}\n",
    "\n",
    "# RAG 체인에서 각 단계마다 DebugPassThrough 추가\n",
    "rag_chain_debug = {\n",
    "    \"context\": retriever,                    # 컨텍스트를 가져오는 retriever\n",
    "    \"question\": DebugPassThrough()        # 사용자 질문이 그대로 전달되는지 확인하는 passthrough\n",
    "}  | DebugPassThrough() | ContextToText()|   contextual_prompt | model\n"
   ]
  },
  {
   "cell_type": "code",
   "execution_count": null,
   "id": "a9ce657b-f591-4d8e-a168-6471316bea6f",
   "metadata": {},
   "outputs": [
    {
     "name": "stdout",
     "output_type": "stream",
     "text": [
      "========================\n"
     ]
    },
    {
     "name": "stdin",
     "output_type": "stream",
     "text": [
      "질문을 입력하세요:  창업 순서\n"
     ]
    },
    {
     "name": "stdout",
     "output_type": "stream",
     "text": [
      "Debug Output: 창업 순서\n",
      "Debug Output: {'context': [Document(metadata={'source': '/Users/hyungmin/Desktop/study/sparta_personal/UOR.pdf', 'page': 132}, page_content='상황인경우가많이있습니다. 창업가가궁금한것을명확하게인지하고그것을\\n확인하기위한실행을계획하고행하는것이가장중요합니다. \\n창업가 제대로된실행\\n우선순위\\n를몰라서\\n준비없이\\n일단만남\\n무서워서')], 'question': '창업 순서'}\n",
      "Final Response:\n",
      "창업 순서에는 다음과 같은 단계가 포함될 수 있습니다:\n",
      "\n",
      "1. 아이디어 구체화: 창업하고자 하는 아이디어를 명확히 하고 시장의 요구를 파악합니다.\n",
      "2. 시장 조사: 경쟁사 분석 및 타겟 고객의 니즈를 조사합니다.\n",
      "3. 사업 계획 수립: 비즈니스 모델과 전략을 포함한 사업 계획서를 작성합니다.\n",
      "4. 자금 조달: 필요한 자금을 확보하기 위한 방법을 모색합니다.\n",
      "5. 법적 절차: 사업 등록 및 필요한 허가를 취득합니다.\n",
      "6. 제품/서비스 개발: 실제 제품이나 서비스를 개발합니다.\n",
      "7. 마케팅 및 판매 전략 수립: 고객에게 다가가기 위한 마케팅 전략을 세웁니다.\n",
      "8. 실행 및 운영: 계획한 대로 사업을 운영하며, 지속적으로 개선합니다. \n",
      "\n",
      "각 단계에서 우선순위를 정하고, 준비 없이 실행하는 것을 피하는 것이 중요합니다.\n",
      "========================\n"
     ]
    }
   ],
   "source": [
    "while True: \n",
    "\tprint(\"========================\")\n",
    "\tquery = input(\"질문을 입력하세요: \")\n",
    "\tresponse = rag_chain_debug.invoke(query)\n",
    "\tprint(\"Final Response:\")\n",
    "\tprint(response.content)"
   ]
  },
  {
   "cell_type": "code",
   "execution_count": null,
   "id": "2f9d787e-ae35-4413-b002-1ba1a7721301",
   "metadata": {},
   "outputs": [],
   "source": []
  }
 ],
 "metadata": {
  "kernelspec": {
   "display_name": "Python (sparta)",
   "language": "python",
   "name": "sparta"
  },
  "language_info": {
   "codemirror_mode": {
    "name": "ipython",
    "version": 3
   },
   "file_extension": ".py",
   "mimetype": "text/x-python",
   "name": "python",
   "nbconvert_exporter": "python",
   "pygments_lexer": "ipython3",
   "version": "3.12.7"
  }
 },
 "nbformat": 4,
 "nbformat_minor": 5
}
