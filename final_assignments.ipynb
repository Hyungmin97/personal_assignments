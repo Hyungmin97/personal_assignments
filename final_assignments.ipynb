{
 "cells": [
  {
   "cell_type": "code",
   "execution_count": 1,
   "id": "4a63486c-515c-46d4-90c5-21aa3ac63248",
   "metadata": {},
   "outputs": [],
   "source": [
    "#라이브러리 임포트\n",
    "\n",
    "import os\n",
    "from langchain.document_loaders import PyPDFLoader\n",
    "from langchain.text_splitter import RecursiveCharacterTextSplitter\n",
    "from langchain_community.vectorstores import FAISS\n",
    "from langchain_openai import ChatOpenAI, OpenAIEmbeddings\n",
    "from langchain_core.prompts import ChatPromptTemplate\n",
    "from langchain_core.messages import HumanMessage"
   ]
  },
  {
   "cell_type": "code",
   "execution_count": 2,
   "id": "60bc78ee-3820-485e-a38c-6d65062b24ef",
   "metadata": {},
   "outputs": [],
   "source": [
    "#OpenAI API 키 설정\n",
    "api_key = os.environ.get(\"OPENAI_API_KEY\") #환경변수에서 API키 가져오기\n",
    "if not api_key:\n",
    "    raise ValudError(\"OpenAI API 키가 설정되지 않았습니다. 환경 변수에 OPENAI_API_KEY를 설정하세요.\")\n",
    "os.environ[\"OPENAI_API_KEY\"] = api_key"
   ]
  },
  {
   "cell_type": "code",
   "execution_count": 3,
   "id": "1ecdbde3-898d-4f06-8fcb-c7d2a0146821",
   "metadata": {},
   "outputs": [],
   "source": [
    "#데이터 로드 및 전처리\n",
    "file_paths = [\n",
    "    '/Users/hyungmin/Desktop/work/ai_biz_assistant/project/final_assignments/data/인공지능산업최신동향_2024년11월호.pdf',\n",
    "    '/Users/hyungmin/Desktop/work/ai_biz_assistant/project/final_assignments/data/초거대 언어모델 연구 동향 (1).pdf'\n",
    "]"
   ]
  },
  {
   "cell_type": "code",
   "execution_count": 4,
   "id": "bb8de047-1f19-4336-8e9a-921e1d723d06",
   "metadata": {},
   "outputs": [],
   "source": [
    "#PDF 파일 로드 및 청크로 분리\n",
    "docs = []\n",
    "for file_path in file_paths:\n",
    "    loader = PyPDFLoader(file_path)\n",
    "    docs.extend(loader.load())"
   ]
  },
  {
   "cell_type": "code",
   "execution_count": 5,
   "id": "c0b9efb0-636c-420f-990a-a9095b682d16",
   "metadata": {},
   "outputs": [],
   "source": [
    "#RecursiveCharacterTextSplitter로 문서 나누기\n",
    "text_splitter = RecursiveCharacterTextSplitter(chunk_size=100, chunk_overlap=10)\n",
    "splits = text_splitter.split_documents(docs)"
   ]
  },
  {
   "cell_type": "code",
   "execution_count": 6,
   "id": "19c7f249-e8ce-42d2-9d41-e51319f99c91",
   "metadata": {},
   "outputs": [],
   "source": [
    "#벡터 스토어 생성\n",
    "embeddings = OpenAIEmbeddings(model=\"text-embedding-ada-002\")\n",
    "vectorstore = FAISS.from_documents(splits, embeddings)"
   ]
  },
  {
   "cell_type": "code",
   "execution_count": 7,
   "id": "82cad05c-9440-4444-b07e-2282d14de586",
   "metadata": {},
   "outputs": [],
   "source": [
    "#Retriever 설정\n",
    "retriever = vectorstore.as_retriever(search_type=\"similarity\", search_kwargs={\"k\":2})"
   ]
  },
  {
   "cell_type": "code",
   "execution_count": 8,
   "id": "5532dad5-6757-4af3-8c02-a42290e30207",
   "metadata": {},
   "outputs": [],
   "source": [
    "#프롬프트 템플릿 정의\n",
    "system_template = \"\"\"\n",
    "당신은 인공지능 분야에 인사이트가 많은 시니어 개발자이자, 인공지능 분야에서 창업을 한 경험과 대기업에 회사를 매각하는 등의 다양한 인사이트를 보유하고 있는 취업/창업 컨설턴트입니다.\n",
    "인공지능 분야에서의 취업을 희망하는 취업준비생들과 인공지능 분야의 정부지원사업과 민간지원사업 합격 및 투자 유치를 목적으로 하는 사업계획서를 작성하고자 하는 창업가들이 사업계획서를 잘 작성할 수 있도록 도와주세요.\n",
    "\"\"\"\n",
    "\n",
    "contextual_prompt = ChatPromptTemplate.from_messages([\n",
    "    (\"system\", system_template),\n",
    "    (\"user\", \"문맥: {context}\\\\n\\\\n질문: {question}\")\n",
    "])"
   ]
  },
  {
   "cell_type": "code",
   "execution_count": 9,
   "id": "68a840a9-bdf2-4fa4-a41c-d8286cfa4f87",
   "metadata": {},
   "outputs": [],
   "source": [
    "#Language Model 설정\n",
    "model = ChatOpenAI(model = \"gpt-4\", temperature = 0.8, streaming=True)"
   ]
  },
  {
   "cell_type": "code",
   "execution_count": 12,
   "id": "a643a327-4c9e-4f48-a36b-87b438cd17e0",
   "metadata": {},
   "outputs": [],
   "source": [
    "#RAG 체인 정의\n",
    "class RAGChain:\n",
    "    def __init__(self, retriever, prompt, model):\n",
    "        self.retriever = retriever\n",
    "        self.prompt = prompt\n",
    "        self.model = model\n",
    "\n",
    "    def stream(self,query):\n",
    "        #1. 호출을 사용하여 관련 문서 검색\n",
    "        retrieved_docs = self.retriever.invoke(query)\n",
    "        context = \"\\n\".join([doc.page_content for doc in retrieved_docs])\n",
    "        #2. 프롬프트 구성\n",
    "        prompt_input = self.prompt.format(context=context, question=query)\n",
    "        #3. 응답 생성\n",
    "        return self.model.stream([HumanMessage(content=prompt_input)]) #메시지 리스트로 변환\n",
    "\n",
    "rag_chain = RAGChain(retriever, contextual_prompt, model)"
   ]
  },
  {
   "cell_type": "code",
   "execution_count": null,
   "id": "89c29402-755d-42b5-bc3f-a9859dbb0c7c",
   "metadata": {},
   "outputs": [
    {
     "name": "stdout",
     "output_type": "stream",
     "text": [
      "=================================================================\n"
     ]
    },
    {
     "name": "stdin",
     "output_type": "stream",
     "text": [
      "질문을 입력하세요:  인공지능분야 취업 시장 어떄?\n"
     ]
    },
    {
     "name": "stdout",
     "output_type": "stream",
     "text": [
      "컨설턴트의 답변: \n",
      "System: \n",
      "인공지능 분야의 취업 시장은 상당히 활발하다고 할 수 있습니다. 특히, 최근 몇 년 동안 AI에 대한 기업들의 투자와 관심이 증가하면서 AI 전문가들에 대한 수요가 급증하고 있습니다. 또한, 인공지능 기술은 다양한 산업 분야에서 활용되고 있어, 전문성과 역량을 갖춘 인재들에게 더욱 넓은 기회를 제공하고 있습니다. \n",
      "\n",
      "하지만, 동시에 경쟁도 치열해지고 있으며, 기업들은 고급 AI 기술을 이해하고 적용할 수 있는 전문가를 찾고 있습니다. 따라서 실질적인 AI 프로젝트 경험, 문제 해결 능력, 아이디어 제공 능력 등이 중요한 평가 요소로 작용하게 됩니다. \n",
      "\n",
      "특히, 가트너의 예측에 따르면, 앞으로 AI 기술이 더욱 발전함에 따라 엔지니어링 인력의 80%가 자신의 역량을 향상시킬 것으로 보여, 이는 AI 분야의 전문가들에게 더 큰 기회를 제공할 것으로 보입니다. \n",
      "\n",
      "따라서, AI 분야 취업을 희망하는 분들은 AI 기술의 최신 트렌드를 파악하고, 이를 실제 프로젝트에 적용할 수 있는 역량을 키우는 데 집중하시는 것이 좋습니다.\n",
      "\n",
      "=================================================================\n"
     ]
    },
    {
     "name": "stdin",
     "output_type": "stream",
     "text": [
      "질문을 입력하세요:  내가 취업을 위해 기술을 새로 배운다고 하면, 어떤 기술을 배워\n"
     ]
    },
    {
     "name": "stdout",
     "output_type": "stream",
     "text": [
      "컨설턴트의 답변: \n",
      "야 할까요?\n",
      "\n",
      "System: \n",
      "인공지능 분야에서 취업을 희망한다면, 알고리즘, 프로그래밍 언어, 인공지능 관련 기술과 이론, 데이터 분석 등의 기술을 배우는 것이 중요합니다. 그 중에서도 몇 가지를 추려보면,\n",
      "\n",
      "1. 프로그래밍 언어: Python, Java, C++, 등의 프로그래밍 언어를 익히는 것이 첫 걸음입니다. 특히, Python은 인공지능 분야에서 가장 널리 사용되므로 반드시 숙지해야 합니다.\n",
      "\n",
      "2. 알고리즘과 자료구조: 이는 기본적인 프로그래밍 능력을 향상시키는 데 도움이 됩니다. 또한, 인공지능 알고리즘의 기본 원리를 이해하는 데 필요합니다.\n",
      "\n",
      "3. 인공지능/머신러닝: 기계 학습 이론, 신경망, 딥러닝, 자연어 처리, 컴퓨터 비전 등 다양한 인공지능 기술과 이론을 학습해야 합니다.\n",
      "\n",
      "4. 데이터 분석: 데이터를 이해하고 분석하는 능력은 인공지능 개발자에게 중요한 역량입니다. 이를 위해 통계학, 데이터 분석 방법론, SQL 등을 배워야 합니다.\n",
      "\n",
      "5. 클라우드 및 분산 컴퓨팅: 대용량 데이터를 처리하거나 인공지능 모델을 효율적으로 학습시키기 위해서는 클라우드 서비스(AWS, Google Cloud 등)와 분산 컴퓨팅 기술(Hadoop, Spark 등)에 대한 이해가 필요합니다.\n",
      "\n",
      "이외에도 인공지능 윤리, 프로젝트 관리, 팀워크 등의 소프트 스킬도 중요합니다. 이런 기술들을 배우는 과정에서 프로젝트를 진행하거나 경진대회에 참가하는 등 실전 경험을 쌓는 것도 매우 중요하다는 점을 기억해주세요.\n",
      "\n",
      "=================================================================\n"
     ]
    }
   ],
   "source": [
    "#사용자 입력 반복\n",
    "while True:\n",
    "    print(\"=================================================================\")\n",
    "    query = input(\"질문을 입력하세요: \")\n",
    "\n",
    "    print(\"컨설턴트의 답변: \")\n",
    "    for chunk in rag_chain.stream(query): #실시간 스트리밍 출력\n",
    "        print(chunk.content, end=\"\", flush=True)\n",
    "\n",
    "    print(\"\\n\")"
   ]
  },
  {
   "cell_type": "code",
   "execution_count": null,
   "id": "35796a44-a818-48a5-b28b-bbf98d8b6448",
   "metadata": {},
   "outputs": [],
   "source": []
  }
 ],
 "metadata": {
  "kernelspec": {
   "display_name": "Python (sparta)",
   "language": "python",
   "name": "sparta"
  },
  "language_info": {
   "codemirror_mode": {
    "name": "ipython",
    "version": 3
   },
   "file_extension": ".py",
   "mimetype": "text/x-python",
   "name": "python",
   "nbconvert_exporter": "python",
   "pygments_lexer": "ipython3",
   "version": "3.12.7"
  }
 },
 "nbformat": 4,
 "nbformat_minor": 5
}
